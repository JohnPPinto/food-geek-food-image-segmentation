{
 "cells": [
  {
   "cell_type": "markdown",
   "id": "630c986c-724b-4aae-838b-512686a1b565",
   "metadata": {},
   "source": [
    "# Model Export"
   ]
  },
  {
   "cell_type": "code",
   "execution_count": 4,
   "id": "cc17cc48-ce42-40fb-8593-8a63b86b5e3e",
   "metadata": {},
   "outputs": [
    {
     "name": "stdout",
     "output_type": "stream",
     "text": [
      "\u001b[33mWARNING: Running pip as the 'root' user can result in broken permissions and conflicting behaviour with the system package manager. It is recommended to use a virtual environment instead: https://pip.pypa.io/warnings/venv\u001b[0m\u001b[33m\n",
      "\u001b[0m"
     ]
    }
   ],
   "source": [
    "import os\n",
    "import shutil\n",
    "\n",
    "!pip install -U -q ultralytics\n",
    "from ultralytics import YOLO"
   ]
  },
  {
   "cell_type": "code",
   "execution_count": 2,
   "id": "0bfeaa51-625e-46a3-8a27-3796b1918df1",
   "metadata": {},
   "outputs": [],
   "source": [
    "os.chdir('../')"
   ]
  },
  {
   "cell_type": "markdown",
   "id": "fdb8421a-225d-4c22-b4cc-3bedd590064d",
   "metadata": {},
   "source": [
    "## 1. 10% Data from 5 Classes "
   ]
  },
  {
   "cell_type": "code",
   "execution_count": 3,
   "id": "4da508d7-7f29-4a44-975e-76c477928722",
   "metadata": {},
   "outputs": [
    {
     "name": "stderr",
     "output_type": "stream",
     "text": [
      "Ultralytics YOLOv8.0.92 🚀 Python-3.9.16 torch-1.12.1+cu116 CPU\n",
      "YOLOv8s-seg summary (fused): 195 layers, 11781535 parameters, 0 gradients, 42.4 GFLOPs\n",
      "\n",
      "\u001b[34m\u001b[1mPyTorch:\u001b[0m starting from train_logs_5class_10percent/exp2_yolov8s_5class_10percent/weights/best.pt with input shape (1, 3, 512, 512) BCHW and output shape(s) ((1, 41, 5376), (1, 32, 128, 128)) (22.7 MB)\n",
      "\n",
      "\u001b[34m\u001b[1mONNX:\u001b[0m starting export with onnx 1.13.1 opset 10...\n",
      "\u001b[34m\u001b[1mONNX:\u001b[0m export success ✅ 4.3s, saved as train_logs_5class_10percent/exp2_yolov8s_5class_10percent/weights/best.onnx (45.1 MB)\n",
      "\n",
      "Export complete (5.4s)\n",
      "Results saved to \u001b[1m/notebooks/train_logs_5class_10percent/exp2_yolov8s_5class_10percent/weights\u001b[0m\n",
      "Predict:         yolo predict task=segment model=train_logs_5class_10percent/exp2_yolov8s_5class_10percent/weights/best.onnx imgsz=512 \n",
      "Validate:        yolo val task=segment model=train_logs_5class_10percent/exp2_yolov8s_5class_10percent/weights/best.onnx imgsz=512 data=train_config.yaml \n",
      "Visualize:       https://netron.app\n"
     ]
    },
    {
     "data": {
      "text/plain": [
       "'train_logs_5class_10percent/exp2_yolov8s_5class_10percent/weights/best.onnx'"
      ]
     },
     "execution_count": 3,
     "metadata": {},
     "output_type": "execute_result"
    }
   ],
   "source": [
    "# Exporting the experiment no. 2 best model\n",
    "exp2_best_model_path = 'train_logs_5class_10percent/exp2_yolov8s_5class_10percent/weights/best.pt'\n",
    "\n",
    "model = YOLO(exp2_best_model_path)\n",
    "model.export(format='onnx', imgsz=512)"
   ]
  },
  {
   "cell_type": "code",
   "execution_count": 5,
   "id": "45c1000c-2cb0-4032-a43a-56199166438f",
   "metadata": {},
   "outputs": [
    {
     "name": "stdout",
     "output_type": "stream",
     "text": [
      "[INFO] File is been moved from \"train_logs_5class_10percent/exp2_yolov8s_5class_10percent/weights/best.onnx\" to \"models/yolov8_5class_10percent\".\n"
     ]
    }
   ],
   "source": [
    "# Moving the onnx model to the models directory\n",
    "class5percent10_onnx_dirpath = 'models/yolov8_5class_10percent'\n",
    "exp2_yolov8s_onnx_path = 'train_logs_5class_10percent/exp2_yolov8s_5class_10percent/weights/best.onnx'\n",
    "\n",
    "if not os.path.exists(class5percent10_onnx_dirpath):\n",
    "    os.makedirs(class5percent10_onnx_dirpath)\n",
    "\n",
    "if os.path.isfile(exp2_yolov8s_onnx_path):\n",
    "    shutil.move(exp2_yolov8s_onnx_path, class5percent10_onnx_dirpath)\n",
    "    print(f'[INFO] File is been moved from \"{exp2_yolov8s_onnx_path}\" to \"{class5percent10_onnx_dirpath}\".')"
   ]
  },
  {
   "cell_type": "code",
   "execution_count": null,
   "id": "7c540d33-3108-46cc-9af4-cd5b07deebfe",
   "metadata": {},
   "outputs": [],
   "source": []
  }
 ],
 "metadata": {
  "kernelspec": {
   "display_name": "Python 3 (ipykernel)",
   "language": "python",
   "name": "python3"
  },
  "language_info": {
   "codemirror_mode": {
    "name": "ipython",
    "version": 3
   },
   "file_extension": ".py",
   "mimetype": "text/x-python",
   "name": "python",
   "nbconvert_exporter": "python",
   "pygments_lexer": "ipython3",
   "version": "3.9.16"
  }
 },
 "nbformat": 4,
 "nbformat_minor": 5
}
