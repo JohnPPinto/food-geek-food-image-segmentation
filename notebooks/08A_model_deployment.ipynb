{
 "cells": [
  {
   "cell_type": "markdown",
   "id": "e469b45a-fda2-4d94-98bb-303d01806785",
   "metadata": {},
   "source": [
    "# Model Deployment - Part 1 (Practice Code)"
   ]
  },
  {
   "cell_type": "code",
   "execution_count": 1,
   "id": "001d1d87-c9d8-4917-af3c-cab98f209444",
   "metadata": {},
   "outputs": [
    {
     "name": "stdout",
     "output_type": "stream",
     "text": [
      "\u001b[33mWARNING: Running pip as the 'root' user can result in broken permissions and conflicting behaviour with the system package manager. It is recommended to use a virtual environment instead: https://pip.pypa.io/warnings/venv\u001b[0m\u001b[33m\n",
      "\u001b[0m"
     ]
    }
   ],
   "source": [
    "!pip install -q -r ../module/requirements.txt\n",
    "import os\n",
    "os.chdir('../')\n",
    "import shutil\n",
    "import glob\n",
    "import cv2\n",
    "import numpy as np\n",
    "import gradio as gr\n",
    "import uvicorn\n",
    "import typing\n",
    "from fastapi import FastAPI, File\n",
    "from pydantic import BaseModel"
   ]
  },
  {
   "cell_type": "markdown",
   "id": "d6e0223d-cf06-4073-9d74-19fd3ffc3f78",
   "metadata": {},
   "source": [
    "## Testing Components"
   ]
  },
  {
   "cell_type": "code",
   "execution_count": 19,
   "id": "42f740b0-f338-45c9-a803-5f24b2daa9c8",
   "metadata": {},
   "outputs": [
    {
     "name": "stdout",
     "output_type": "stream",
     "text": [
      "Running on local URL:  http://127.0.0.1:7871\n",
      "Running on public URL: https://ae4f4b3c534dc73c58.gradio.live\n",
      "\n",
      "This share link expires in 72 hours. For free permanent hosting and GPU upgrades (NEW!), check out Spaces: https://huggingface.co/spaces\n"
     ]
    },
    {
     "data": {
      "text/html": [
       "<div><iframe src=\"https://ae4f4b3c534dc73c58.gradio.live\" width=\"100%\" height=\"500\" allow=\"autoplay; camera; microphone; clipboard-read; clipboard-write;\" frameborder=\"0\" allowfullscreen></iframe></div>"
      ],
      "text/plain": [
       "<IPython.core.display.HTML object>"
      ]
     },
     "metadata": {},
     "output_type": "display_data"
    },
    {
     "data": {
      "text/plain": []
     },
     "execution_count": 19,
     "metadata": {},
     "output_type": "execute_result"
    }
   ],
   "source": [
    "# Components\n",
    "img = gr.Image(shape=(1200, 600), type='numpy')\n",
    "img_section = gr.AnnotatedImage()\n",
    "box = gr.Textbox()\n",
    "\n",
    "# function to predict(dummy)\n",
    "def mask(img_):\n",
    "    box = [0, 0, 600, 300]\n",
    "    mask = np.concatenate((np.zeros((300, 600)), np.ones((300, 600))))/2\n",
    "    return [(img_, [(box, \"box\")]), f'{img_.shape}']\n",
    "\n",
    "# links the components with function\n",
    "interface = gr.Interface(mask, img, [img_section, box])\n",
    "interface.launch(share=True)"
   ]
  },
  {
   "cell_type": "code",
   "execution_count": 3,
   "id": "7e01a955-11b7-46f9-98db-ee41682e38ed",
   "metadata": {},
   "outputs": [
    {
     "name": "stdout",
     "output_type": "stream",
     "text": [
      "Running on local URL:  http://127.0.0.1:7861\n",
      "Running on public URL: https://45e372f23efa49ea54.gradio.live\n",
      "\n",
      "This share link expires in 72 hours. For free permanent hosting and GPU upgrades (NEW!), check out Spaces: https://huggingface.co/spaces\n"
     ]
    },
    {
     "data": {
      "text/html": [
       "<div><iframe src=\"https://45e372f23efa49ea54.gradio.live\" width=\"100%\" height=\"500\" allow=\"autoplay; camera; microphone; clipboard-read; clipboard-write;\" frameborder=\"0\" allowfullscreen></iframe></div>"
      ],
      "text/plain": [
       "<IPython.core.display.HTML object>"
      ]
     },
     "metadata": {},
     "output_type": "display_data"
    },
    {
     "data": {
      "text/plain": []
     },
     "execution_count": 3,
     "metadata": {},
     "output_type": "execute_result"
    }
   ],
   "source": [
    "# function to predict(dummy)\n",
    "def mask(img_):\n",
    "    box = [0,300, 600, 600]\n",
    "    mask1 = np.concatenate((np.zeros((500, 1000)), np.ones((500, 1000))))/2\n",
    "    mask2 = np.concatenate((np.ones((500, 1000)), np.zeros((500, 1000))))/2\n",
    "    return (img_, [(box, \"box\"), (mask1, \"mask1\"), (mask2, \"mask2\")])\n",
    "\n",
    "# Function on select trigger\n",
    "def on_select(evt: gr.SelectData):\n",
    "    return f'You selected {evt.value} at {evt.index} from {evt.target}'\n",
    "\n",
    "# Function on clear button\n",
    "def clear():\n",
    "    return None, None, None\n",
    "\n",
    "# Creates block of components and links it with the function\n",
    "with gr.Blocks() as demo:\n",
    "    gr.Markdown(\"# Select an image.\")\n",
    "    with gr.Row():\n",
    "        with gr.Column():\n",
    "            with gr.Box():\n",
    "                with gr.Column():\n",
    "                    inp = gr.Image(shape=(1000, 1000))\n",
    "                    with gr.Row():\n",
    "                        btn_clear = gr.Button('Clear')\n",
    "                        btn_submit = gr.Button(\"Submit\", variant='primary')\n",
    "        out = gr.AnnotatedImage().style(height=512, width=512, color_map={'': ''})\n",
    "    textbox = gr.Textbox()\n",
    "    \n",
    "    btn_submit.click(fn=mask, inputs=inp, outputs=out)\n",
    "    btn_clear.click(clear, None, [inp, out, textbox])\n",
    "    out.select(on_select, None, textbox)\n",
    "\n",
    "demo.launch(share='True')"
   ]
  },
  {
   "cell_type": "markdown",
   "id": "137b03f8-2c40-4d08-9d44-9169d43c6b5c",
   "metadata": {},
   "source": [
    "## Building a Demo Website"
   ]
  },
  {
   "cell_type": "code",
   "execution_count": 4,
   "id": "a2492811-7d6a-47e7-a4a8-1a2d3db7d8d5",
   "metadata": {},
   "outputs": [
    {
     "name": "stdout",
     "output_type": "stream",
     "text": [
      "[INFO] File \"module/requirements.txt\" has been copied to \"demo\".\n",
      "[INFO] File \"module/predict.py\" has been copied to \"demo\".\n",
      "[INFO] File \"module/engine.py\" has been copied to \"demo\".\n",
      "[INFO] File \"module/utils.py\" has been copied to \"demo\".\n",
      "[INFO] File \"datasets/images/val/chicken_curry/1213873.jpg\" has been copied to \"demo/examples\".\n",
      "[INFO] File \"datasets/images/val/chocolate_cake/1520283.jpg\" has been copied to \"demo/examples\".\n",
      "[INFO] File \"datasets/images/val/hamburger/3508112.jpg\" has been copied to \"demo/examples\".\n",
      "[INFO] File \"datasets/images/val/pizza/2398925.jpg\" has been copied to \"demo/examples\".\n",
      "[INFO] File \"datasets/images/val/ramen/672622.jpg\" has been copied to \"demo/examples\".\n",
      "[INFO] File \"models/yolov8_5class_10percent/best.onnx\" has been copied to \"demo/models\".\n",
      "[INFO] Model File is renamed to \"demo/models/yolov8s-seg-v1.onnx\".\n"
     ]
    }
   ],
   "source": [
    "# Creating a demo directory containing all the files\n",
    "demo_dir = 'demo'\n",
    "if not os.path.exists(demo_dir):\n",
    "    os.makedirs(demo_dir)\n",
    "    \n",
    "# Copying the scripts\n",
    "for i in os.listdir('module'):\n",
    "    if i.endswith('.txt') or i.endswith('.py'):\n",
    "        if os.path.isfile(os.path.join('module', i)):\n",
    "            shutil.copy2(os.path.join('module', i), demo_dir)\n",
    "            print(f'[INFO] File \"{os.path.join(\"module\", i)}\" has been copied to \"{demo_dir}\".')\n",
    "            \n",
    "# Copying some images for examples\n",
    "example_dir = 'demo/examples'\n",
    "if not os.path.exists(example_dir):\n",
    "    os.makedirs(example_dir)\n",
    "    \n",
    "example_list = ['datasets/images/val/chicken_curry/1213873.jpg',\n",
    "                'datasets/images/val/chocolate_cake/1520283.jpg',\n",
    "                'datasets/images/val/hamburger/3508112.jpg',\n",
    "                'datasets/images/val/pizza/2398925.jpg',\n",
    "                'datasets/images/val/ramen/672622.jpg']\n",
    "\n",
    "for i in example_list:\n",
    "    if os.path.isfile(i):\n",
    "        shutil.copy2(i, example_dir)\n",
    "        print(f'[INFO] File \"{i}\" has been copied to \"{example_dir}\".')\n",
    "        \n",
    "# Copying the model file\n",
    "model_path = 'models/yolov8_5class_10percent/best.onnx'\n",
    "model_dirpath = 'demo/models'\n",
    "\n",
    "if not os.path.exists(model_dirpath):\n",
    "    os.makedirs(model_dirpath)\n",
    "\n",
    "if os.path.isfile(model_path):\n",
    "    shutil.copy2(model_path, model_dirpath)\n",
    "    print(f'[INFO] File \"{model_path}\" has been copied to \"{model_dirpath}\".')\n",
    "\n",
    "# Renaming the model file\n",
    "if os.path.isfile(os.path.join(model_dirpath, 'best.onnx')):\n",
    "    os.rename(os.path.join(model_dirpath, 'best.onnx'), os.path.join(model_dirpath, 'yolov8s-seg-v1.onnx'))\n",
    "    print(f'[INFO] Model File is renamed to \"{os.path.join(model_dirpath, \"yolov8s-seg-v1.onnx\")}\".')"
   ]
  },
  {
   "cell_type": "code",
   "execution_count": null,
   "id": "e0dd1cb7-368f-48f0-ae82-b5f61cb0c1ee",
   "metadata": {},
   "outputs": [],
   "source": [
    "os.chdir('demo')"
   ]
  },
  {
   "cell_type": "code",
   "execution_count": 11,
   "id": "7e313fa0-641b-45d5-89f8-3477f9f7b03d",
   "metadata": {},
   "outputs": [
    {
     "name": "stdout",
     "output_type": "stream",
     "text": [
      "Running on local URL:  http://127.0.0.1:7864\n",
      "Running on public URL: https://04db5891daf7b4cb20.gradio.live\n",
      "\n",
      "This share link expires in 72 hours. For free permanent hosting and GPU upgrades (NEW!), check out Spaces: https://huggingface.co/spaces\n"
     ]
    },
    {
     "data": {
      "text/html": [
       "<div><iframe src=\"https://04db5891daf7b4cb20.gradio.live\" width=\"100%\" height=\"500\" allow=\"autoplay; camera; microphone; clipboard-read; clipboard-write;\" frameborder=\"0\" allowfullscreen></iframe></div>"
      ],
      "text/plain": [
       "<IPython.core.display.HTML object>"
      ]
     },
     "metadata": {},
     "output_type": "display_data"
    },
    {
     "data": {
      "text/plain": []
     },
     "execution_count": 11,
     "metadata": {},
     "output_type": "execute_result"
    }
   ],
   "source": [
    "from predict import predict\n",
    "\n",
    "# Creating a predict function for the demo website\n",
    "def gradio_predict(img):\n",
    "    model_path='models/yolov8s-seg-v1.onnx'\n",
    "    # Getting the prediction result for the image\n",
    "    results = predict(image_array=img,\n",
    "                      model_path=model_path,\n",
    "                      conf_threshold=0.7)\n",
    "    \n",
    "    # formating the classes\n",
    "    class_list = []\n",
    "    for names in results['classes']:\n",
    "        class_list.append(names.replace('_', ' '))\n",
    "        \n",
    "    # Validating the result\n",
    "    if len(results['masks']) == 0:\n",
    "        return (img, [([0, 0, 0, 0], 'No Food Detected')])\n",
    "    else:\n",
    "        # Isolating the result for every mask\n",
    "        pred = []\n",
    "        for i in range(len(results['masks'])):\n",
    "            pred.append((results['masks'][i] / 2, class_list[results['class_ids'][i]]))\n",
    "        return (img, pred)\n",
    "\n",
    "# Creating a function when segment is selected\n",
    "def on_annot_select(evt: gr.SelectData):\n",
    "    return f'Selected Class: {evt.value}'\n",
    "\n",
    "# Creating a function to clear all data\n",
    "def on_clear_btn():\n",
    "    return None, None, None\n",
    "\n",
    "# Creating the UI\n",
    "with gr.Blocks(theme=gr.themes.Soft()) as demo:\n",
    "    # Header\n",
    "    gr.Markdown('<center><h1>Title</h1></center>')\n",
    "    gr.Markdown('<center>Description</center>')\n",
    "    \n",
    "    # Body\n",
    "    with gr.Row():\n",
    "        # Image uploading\n",
    "        with gr.Column(min_width=768):\n",
    "            with gr.Box():\n",
    "                with gr.Column():\n",
    "                    input = gr.Image(type='numpy', \n",
    "                                     label='Image')\n",
    "                    with gr.Row():\n",
    "                        btn_clear = gr.Button(value='Clear')\n",
    "                        btn_submit = gr.Button(value=\"Submit\", \n",
    "                                               variant='primary')\n",
    "                    gr.Examples(examples=glob.glob('examples/*.jpg'),\n",
    "                                inputs=input)\n",
    "        # Displaying resulted image\n",
    "        output = gr.AnnotatedImage(label='Result').style(height=512, width=512, color_map={'': ''})\n",
    "    \n",
    "    # Additional info textbox \n",
    "    food_info_box = gr.Textbox(label='Food Info')\n",
    "    \n",
    "    # Footer\n",
    "    gr.Markdown('article')\n",
    "    \n",
    "    # On selected event\n",
    "    btn_submit.click(fn=gradio_predict, inputs=input, outputs=output)\n",
    "    btn_clear.click(fn=on_clear_btn, inputs=None, outputs=[input, output, food_info_box])\n",
    "    output.select(fn=on_annot_select, inputs=None, outputs=food_info_box)\n",
    "\n",
    "# Launching the demo\n",
    "demo.launch(share='True')"
   ]
  }
 ],
 "metadata": {
  "kernelspec": {
   "display_name": "Python 3 (ipykernel)",
   "language": "python",
   "name": "python3"
  },
  "language_info": {
   "codemirror_mode": {
    "name": "ipython",
    "version": 3
   },
   "file_extension": ".py",
   "mimetype": "text/x-python",
   "name": "python",
   "nbconvert_exporter": "python",
   "pygments_lexer": "ipython3",
   "version": "3.9.16"
  }
 },
 "nbformat": 4,
 "nbformat_minor": 5
}
