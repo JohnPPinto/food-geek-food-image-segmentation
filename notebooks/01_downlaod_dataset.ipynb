{
 "cells": [
  {
   "cell_type": "markdown",
   "id": "2e4b2573-b34d-422e-be26-8ada6878df21",
   "metadata": {},
   "source": [
    "# Downloading the dataset"
   ]
  },
  {
   "cell_type": "code",
   "execution_count": 1,
   "id": "96b62d3c-1a72-4a70-840f-9989215daa20",
   "metadata": {},
   "outputs": [],
   "source": [
    "import os\n",
    "import requests\n",
    "import shutil"
   ]
  },
  {
   "cell_type": "code",
   "execution_count": 2,
   "id": "fb820535-aac8-47b2-ad7a-de97a515be89",
   "metadata": {},
   "outputs": [
    {
     "name": "stdout",
     "output_type": "stream",
     "text": [
      "[INFO] Data directory: \"raw_data\" is been created.\n",
      "[INFO] Downloading the data from URL: \"http://data.vision.ee.ethz.ch/cvl/food-101.tar.gz\".\n",
      "[INFO] Download complete.\n"
     ]
    }
   ],
   "source": [
    "# Creating data folder and downloading the file\n",
    "os.chdir('../')\n",
    "data_dir =  'raw_data'\n",
    "data_url = 'http://data.vision.ee.ethz.ch/cvl/food-101.tar.gz'\n",
    "data_file = os.path.join(data_dir, 'food-101.tar.gz')\n",
    "\n",
    "if os.path.exists(data_dir):\n",
    "    print('[INFO] Data directory exists.')\n",
    "else:\n",
    "    os.makedirs(data_dir)\n",
    "    print(f'[INFO] Data directory: \"{data_dir}\" is been created.')\n",
    "    print(f'[INFO] Downloading the data from URL: \"{data_url}\".')\n",
    "    r = requests.get(data_url)\n",
    "    with open(data_file, 'wb') as file:\n",
    "        file.write(r.content)\n",
    "        file.close()\n",
    "    print('[INFO] Download complete.')"
   ]
  },
  {
   "cell_type": "code",
   "execution_count": 3,
   "id": "d414be33-5889-4b41-8e5c-d5f9c10557cf",
   "metadata": {},
   "outputs": [
    {
     "name": "stdout",
     "output_type": "stream",
     "text": [
      "[INFO] Extracting file: \"raw_data/food-101.tar.gz\" in \"raw_data\" directory.\n",
      "[INFO] File extraction is completed.\n"
     ]
    }
   ],
   "source": [
    "# Extracting the data\n",
    "if os.path.isfile(data_file):\n",
    "    print(f'[INFO] Extracting file: \"{data_file}\" in \"{data_dir}\" directory.')\n",
    "    shutil.unpack_archive(data_file, extract_dir=data_dir, format='gztar')\n",
    "    os.remove(data_file)\n",
    "    print('[INFO] File extraction is completed.')\n",
    "else:\n",
    "    print(f'[INFO] File does not exist, kindly download the file.')"
   ]
  }
 ],
 "metadata": {
  "kernelspec": {
   "display_name": "Python 3 (ipykernel)",
   "language": "python",
   "name": "python3"
  },
  "language_info": {
   "codemirror_mode": {
    "name": "ipython",
    "version": 3
   },
   "file_extension": ".py",
   "mimetype": "text/x-python",
   "name": "python",
   "nbconvert_exporter": "python",
   "pygments_lexer": "ipython3",
   "version": "3.9.16"
  }
 },
 "nbformat": 4,
 "nbformat_minor": 5
}
