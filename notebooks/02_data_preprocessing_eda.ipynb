{
 "cells": [
  {
   "cell_type": "markdown",
   "id": "fbd5878e-2f32-43a2-a910-39413b7e2640",
   "metadata": {},
   "source": [
    "# Data Preprocessing and EDA"
   ]
  },
  {
   "cell_type": "code",
   "execution_count": 1,
   "id": "b5083716-5d83-4934-9de0-7f7920fbd720",
   "metadata": {},
   "outputs": [],
   "source": [
    "import os\n",
    "import shutil\n",
    "import random\n",
    "from tqdm import tqdm"
   ]
  },
  {
   "cell_type": "markdown",
   "id": "a84bdb06-e066-4189-b92b-2f0f88bf2f39",
   "metadata": {},
   "source": [
    "## Splitting the Data\n",
    "\n",
    "I will be splitting the original data as per the provided meta data list for train and val sets."
   ]
  },
  {
   "cell_type": "code",
   "execution_count": 2,
   "id": "48aa7791-ef89-45dd-a092-4312ab0e2e06",
   "metadata": {},
   "outputs": [],
   "source": [
    "os.chdir('../')\n",
    "meta_trainsplit_path = 'raw_data/food-101/meta/train.txt'\n",
    "meta_valsplit_path = 'raw_data/food-101/meta/test.txt'\n",
    "raw_images_dir = 'raw_data/food-101/images'\n",
    "train_dir = 'raw_data/split_data/images/train'\n",
    "val_dir = 'raw_data/split_data/images/val'"
   ]
  },
  {
   "cell_type": "code",
   "execution_count": 3,
   "id": "fee4d7fe-5e77-493b-aee4-c127e7fe447e",
   "metadata": {},
   "outputs": [
    {
     "name": "stdout",
     "output_type": "stream",
     "text": [
      "['apple_pie/1005649', 'apple_pie/1014775', 'apple_pie/1026328', 'apple_pie/1028787', 'apple_pie/1043283'] 75751\n",
      "['apple_pie/1011328', 'apple_pie/101251', 'apple_pie/1034399', 'apple_pie/103801', 'apple_pie/1038694'] 25251\n"
     ]
    }
   ],
   "source": [
    "# Getting the training and validation split list\n",
    "train_list = []\n",
    "val_list = []\n",
    "\n",
    "# Reading the train and val split file\n",
    "with open(meta_trainsplit_path) as file:\n",
    "    train_list.append(file.read().split('\\n'))\n",
    "    file.close()\n",
    "train_list = train_list[0]\n",
    "print(train_list[:5], len(train_list))\n",
    "\n",
    "with open(meta_valsplit_path) as file:\n",
    "    val_list.append(file.read().split('\\n'))\n",
    "    file.close()\n",
    "val_list = val_list[0]\n",
    "print(val_list[:5], len(val_list))"
   ]
  },
  {
   "cell_type": "code",
   "execution_count": 4,
   "id": "b1f5ec5c-e4bd-440e-b443-77b42b1d0e98",
   "metadata": {},
   "outputs": [
    {
     "name": "stdout",
     "output_type": "stream",
     "text": [
      "[INFO] Train set directory \"raw_data/split_data/images/train\" created.\n"
     ]
    },
    {
     "name": "stderr",
     "output_type": "stream",
     "text": [
      "100%|██████████| 75751/75751 [01:29<00:00, 850.38it/s] "
     ]
    },
    {
     "name": "stdout",
     "output_type": "stream",
     "text": [
      "[INFO] All the files are moved to train set directory \"raw_data/split_data/images/train\".\n"
     ]
    },
    {
     "name": "stderr",
     "output_type": "stream",
     "text": [
      "\n"
     ]
    }
   ],
   "source": [
    "# Creating a train set directory\n",
    "if not os.path.exists(train_dir):\n",
    "    os.makedirs(train_dir)\n",
    "    print(f'[INFO] Train set directory \"{train_dir}\" created.')\n",
    "    \n",
    "# Moving the files in train dir\n",
    "for file_name in tqdm(train_list):\n",
    "    file_path = os.path.join(raw_images_dir, file_name + '.jpg')\n",
    "    class_dir = os.path.join(train_dir, file_name.split('/')[0])\n",
    "    os.makedirs(class_dir, exist_ok=True)\n",
    "    if os.path.isfile(file_path):\n",
    "        shutil.move(file_path, class_dir)\n",
    "print(f'[INFO] All the files are moved to train set directory \"{train_dir}\".')"
   ]
  },
  {
   "cell_type": "code",
   "execution_count": 5,
   "id": "3e36e2d4-46f5-4033-bc78-2d088b72392b",
   "metadata": {},
   "outputs": [
    {
     "name": "stdout",
     "output_type": "stream",
     "text": [
      "[INFO] Val set directory \"raw_data/split_data/images/val\" created.\n"
     ]
    },
    {
     "name": "stderr",
     "output_type": "stream",
     "text": [
      "100%|██████████| 25251/25251 [00:32<00:00, 780.02it/s] "
     ]
    },
    {
     "name": "stdout",
     "output_type": "stream",
     "text": [
      "[INFO] All the files are moved to val set directory \"raw_data/split_data/images/val\".\n"
     ]
    },
    {
     "name": "stderr",
     "output_type": "stream",
     "text": [
      "\n"
     ]
    }
   ],
   "source": [
    "# Creating a val set directory\n",
    "if not os.path.exists(val_dir):\n",
    "    os.makedirs(val_dir)\n",
    "    print(f'[INFO] Val set directory \"{val_dir}\" created.')\n",
    "    \n",
    "# Moving the files in Val dir\n",
    "for file_name in tqdm(val_list):\n",
    "    file_path = os.path.join(raw_images_dir, file_name + '.jpg')\n",
    "    class_dir = os.path.join(val_dir, file_name.split('/')[0])\n",
    "    os.makedirs(class_dir, exist_ok=True)\n",
    "    if os.path.isfile(file_path):\n",
    "        shutil.move(file_path, class_dir)\n",
    "print(f'[INFO] All the files are moved to val set directory \"{val_dir}\".')"
   ]
  },
  {
   "cell_type": "code",
   "execution_count": 6,
   "id": "0241a599-59e7-4955-890c-5e8caeb13838",
   "metadata": {},
   "outputs": [
    {
     "name": "stdout",
     "output_type": "stream",
     "text": [
      "There are 101 directories and 0 images in \"raw_data/split_data/images/train\".\n",
      "There are 0 directories and 750 images in \"raw_data/split_data/images/train/chocolate_mousse\".\n",
      "There are 0 directories and 750 images in \"raw_data/split_data/images/train/ceviche\".\n",
      "There are 0 directories and 750 images in \"raw_data/split_data/images/train/shrimp_and_grits\".\n",
      "There are 0 directories and 750 images in \"raw_data/split_data/images/train/hot_and_sour_soup\".\n",
      "There are 0 directories and 750 images in \"raw_data/split_data/images/train/pork_chop\".\n",
      "There are 0 directories and 750 images in \"raw_data/split_data/images/train/foie_gras\".\n",
      "There are 0 directories and 750 images in \"raw_data/split_data/images/train/grilled_cheese_sandwich\".\n",
      "There are 0 directories and 750 images in \"raw_data/split_data/images/train/poutine\".\n",
      "There are 0 directories and 750 images in \"raw_data/split_data/images/train/huevos_rancheros\".\n",
      "There are 0 directories and 750 images in \"raw_data/split_data/images/train/apple_pie\".\n",
      "There are 0 directories and 750 images in \"raw_data/split_data/images/train/spaghetti_carbonara\".\n",
      "There are 0 directories and 750 images in \"raw_data/split_data/images/train/steak\".\n",
      "There are 0 directories and 750 images in \"raw_data/split_data/images/train/bibimbap\".\n",
      "There are 0 directories and 750 images in \"raw_data/split_data/images/train/onion_rings\".\n",
      "There are 0 directories and 750 images in \"raw_data/split_data/images/train/chicken_curry\".\n",
      "There are 0 directories and 750 images in \"raw_data/split_data/images/train/spaghetti_bolognese\".\n",
      "There are 0 directories and 750 images in \"raw_data/split_data/images/train/ravioli\".\n",
      "There are 0 directories and 750 images in \"raw_data/split_data/images/train/red_velvet_cake\".\n",
      "There are 0 directories and 750 images in \"raw_data/split_data/images/train/guacamole\".\n",
      "There are 0 directories and 750 images in \"raw_data/split_data/images/train/sashimi\".\n",
      "There are 0 directories and 750 images in \"raw_data/split_data/images/train/hummus\".\n",
      "There are 0 directories and 750 images in \"raw_data/split_data/images/train/lobster_bisque\".\n",
      "There are 0 directories and 750 images in \"raw_data/split_data/images/train/escargots\".\n",
      "There are 0 directories and 750 images in \"raw_data/split_data/images/train/gnocchi\".\n",
      "There are 0 directories and 750 images in \"raw_data/split_data/images/train/lasagna\".\n",
      "There are 0 directories and 750 images in \"raw_data/split_data/images/train/bread_pudding\".\n",
      "There are 0 directories and 750 images in \"raw_data/split_data/images/train/cheese_plate\".\n",
      "There are 0 directories and 750 images in \"raw_data/split_data/images/train/cup_cakes\".\n",
      "There are 0 directories and 750 images in \"raw_data/split_data/images/train/bruschetta\".\n",
      "There are 0 directories and 750 images in \"raw_data/split_data/images/train/filet_mignon\".\n",
      "There are 0 directories and 750 images in \"raw_data/split_data/images/train/chicken_wings\".\n",
      "There are 0 directories and 750 images in \"raw_data/split_data/images/train/sushi\".\n",
      "There are 0 directories and 750 images in \"raw_data/split_data/images/train/baklava\".\n",
      "There are 0 directories and 750 images in \"raw_data/split_data/images/train/beef_carpaccio\".\n",
      "There are 0 directories and 750 images in \"raw_data/split_data/images/train/nachos\".\n",
      "There are 0 directories and 750 images in \"raw_data/split_data/images/train/beef_tartare\".\n",
      "There are 0 directories and 750 images in \"raw_data/split_data/images/train/edamame\".\n",
      "There are 0 directories and 750 images in \"raw_data/split_data/images/train/pho\".\n",
      "There are 0 directories and 750 images in \"raw_data/split_data/images/train/cannoli\".\n",
      "There are 0 directories and 750 images in \"raw_data/split_data/images/train/seaweed_salad\".\n",
      "There are 0 directories and 750 images in \"raw_data/split_data/images/train/frozen_yogurt\".\n",
      "There are 0 directories and 750 images in \"raw_data/split_data/images/train/caesar_salad\".\n",
      "There are 0 directories and 750 images in \"raw_data/split_data/images/train/ramen\".\n",
      "There are 0 directories and 750 images in \"raw_data/split_data/images/train/clam_chowder\".\n",
      "There are 0 directories and 750 images in \"raw_data/split_data/images/train/eggs_benedict\".\n",
      "There are 0 directories and 750 images in \"raw_data/split_data/images/train/donuts\".\n",
      "There are 0 directories and 750 images in \"raw_data/split_data/images/train/tacos\".\n",
      "There are 0 directories and 750 images in \"raw_data/split_data/images/train/hamburger\".\n",
      "There are 0 directories and 750 images in \"raw_data/split_data/images/train/greek_salad\".\n",
      "There are 0 directories and 750 images in \"raw_data/split_data/images/train/paella\".\n",
      "There are 0 directories and 750 images in \"raw_data/split_data/images/train/prime_rib\".\n",
      "There are 0 directories and 750 images in \"raw_data/split_data/images/train/carrot_cake\".\n",
      "There are 0 directories and 750 images in \"raw_data/split_data/images/train/cheesecake\".\n",
      "There are 0 directories and 750 images in \"raw_data/split_data/images/train/pizza\".\n",
      "There are 0 directories and 750 images in \"raw_data/split_data/images/train/waffles\".\n",
      "There are 0 directories and 750 images in \"raw_data/split_data/images/train/garlic_bread\".\n",
      "There are 0 directories and 750 images in \"raw_data/split_data/images/train/macaroni_and_cheese\".\n",
      "There are 0 directories and 750 images in \"raw_data/split_data/images/train/spring_rolls\".\n",
      "There are 0 directories and 750 images in \"raw_data/split_data/images/train/club_sandwich\".\n",
      "There are 0 directories and 750 images in \"raw_data/split_data/images/train/risotto\".\n",
      "There are 0 directories and 750 images in \"raw_data/split_data/images/train/omelette\".\n",
      "There are 0 directories and 750 images in \"raw_data/split_data/images/train/french_toast\".\n",
      "There are 0 directories and 750 images in \"raw_data/split_data/images/train/fried_rice\".\n",
      "There are 0 directories and 750 images in \"raw_data/split_data/images/train/chicken_quesadilla\".\n",
      "There are 0 directories and 750 images in \"raw_data/split_data/images/train/croque_madame\".\n",
      "There are 0 directories and 750 images in \"raw_data/split_data/images/train/ice_cream\".\n",
      "There are 0 directories and 750 images in \"raw_data/split_data/images/train/macarons\".\n",
      "There are 0 directories and 750 images in \"raw_data/split_data/images/train/miso_soup\".\n",
      "There are 0 directories and 750 images in \"raw_data/split_data/images/train/grilled_salmon\".\n",
      "There are 0 directories and 750 images in \"raw_data/split_data/images/train/fried_calamari\".\n",
      "There are 0 directories and 750 images in \"raw_data/split_data/images/train/french_onion_soup\".\n",
      "There are 0 directories and 750 images in \"raw_data/split_data/images/train/chocolate_cake\".\n",
      "There are 0 directories and 750 images in \"raw_data/split_data/images/train/deviled_eggs\".\n",
      "There are 0 directories and 750 images in \"raw_data/split_data/images/train/pancakes\".\n",
      "There are 0 directories and 750 images in \"raw_data/split_data/images/train/lobster_roll_sandwich\".\n",
      "There are 0 directories and 750 images in \"raw_data/split_data/images/train/takoyaki\".\n",
      "There are 0 directories and 750 images in \"raw_data/split_data/images/train/strawberry_shortcake\".\n",
      "There are 0 directories and 750 images in \"raw_data/split_data/images/train/tiramisu\".\n",
      "There are 0 directories and 750 images in \"raw_data/split_data/images/train/mussels\".\n",
      "There are 0 directories and 750 images in \"raw_data/split_data/images/train/breakfast_burrito\".\n",
      "There are 0 directories and 750 images in \"raw_data/split_data/images/train/gyoza\".\n",
      "There are 0 directories and 750 images in \"raw_data/split_data/images/train/fish_and_chips\".\n",
      "There are 0 directories and 750 images in \"raw_data/split_data/images/train/creme_brulee\".\n",
      "There are 0 directories and 750 images in \"raw_data/split_data/images/train/scallops\".\n",
      "There are 0 directories and 750 images in \"raw_data/split_data/images/train/samosa\".\n",
      "There are 0 directories and 750 images in \"raw_data/split_data/images/train/panna_cotta\".\n",
      "There are 0 directories and 750 images in \"raw_data/split_data/images/train/falafel\".\n",
      "There are 0 directories and 750 images in \"raw_data/split_data/images/train/oysters\".\n",
      "There are 0 directories and 750 images in \"raw_data/split_data/images/train/crab_cakes\".\n",
      "There are 0 directories and 750 images in \"raw_data/split_data/images/train/churros\".\n",
      "There are 0 directories and 750 images in \"raw_data/split_data/images/train/french_fries\".\n",
      "There are 0 directories and 750 images in \"raw_data/split_data/images/train/pad_thai\".\n",
      "There are 0 directories and 750 images in \"raw_data/split_data/images/train/pulled_pork_sandwich\".\n",
      "There are 0 directories and 750 images in \"raw_data/split_data/images/train/baby_back_ribs\".\n",
      "There are 0 directories and 750 images in \"raw_data/split_data/images/train/tuna_tartare\".\n",
      "There are 0 directories and 750 images in \"raw_data/split_data/images/train/caprese_salad\".\n",
      "There are 0 directories and 750 images in \"raw_data/split_data/images/train/beet_salad\".\n",
      "There are 0 directories and 750 images in \"raw_data/split_data/images/train/beignets\".\n",
      "There are 0 directories and 750 images in \"raw_data/split_data/images/train/peking_duck\".\n",
      "There are 0 directories and 750 images in \"raw_data/split_data/images/train/hot_dog\".\n",
      "There are 0 directories and 750 images in \"raw_data/split_data/images/train/dumplings\".\n"
     ]
    }
   ],
   "source": [
    "# Walk through the train directory\n",
    "for dirpath, dirnames, filenames in os.walk(train_dir):\n",
    "    print(f'There are {len(dirnames)} directories and {len(filenames)} images in \"{dirpath}\".')"
   ]
  },
  {
   "cell_type": "code",
   "execution_count": 7,
   "id": "359b37db-ed59-4e35-94ab-668c01b1e77c",
   "metadata": {},
   "outputs": [
    {
     "name": "stdout",
     "output_type": "stream",
     "text": [
      "There are 101 directories and 0 images in \"raw_data/split_data/images/val\".\n",
      "There are 0 directories and 250 images in \"raw_data/split_data/images/val/chocolate_mousse\".\n",
      "There are 0 directories and 250 images in \"raw_data/split_data/images/val/ceviche\".\n",
      "There are 0 directories and 250 images in \"raw_data/split_data/images/val/shrimp_and_grits\".\n",
      "There are 0 directories and 250 images in \"raw_data/split_data/images/val/hot_and_sour_soup\".\n",
      "There are 0 directories and 250 images in \"raw_data/split_data/images/val/pork_chop\".\n",
      "There are 0 directories and 250 images in \"raw_data/split_data/images/val/foie_gras\".\n",
      "There are 0 directories and 250 images in \"raw_data/split_data/images/val/grilled_cheese_sandwich\".\n",
      "There are 0 directories and 250 images in \"raw_data/split_data/images/val/poutine\".\n",
      "There are 0 directories and 250 images in \"raw_data/split_data/images/val/huevos_rancheros\".\n",
      "There are 0 directories and 250 images in \"raw_data/split_data/images/val/apple_pie\".\n",
      "There are 0 directories and 250 images in \"raw_data/split_data/images/val/spaghetti_carbonara\".\n",
      "There are 0 directories and 250 images in \"raw_data/split_data/images/val/steak\".\n",
      "There are 0 directories and 250 images in \"raw_data/split_data/images/val/bibimbap\".\n",
      "There are 0 directories and 250 images in \"raw_data/split_data/images/val/onion_rings\".\n",
      "There are 0 directories and 250 images in \"raw_data/split_data/images/val/chicken_curry\".\n",
      "There are 0 directories and 250 images in \"raw_data/split_data/images/val/spaghetti_bolognese\".\n",
      "There are 0 directories and 250 images in \"raw_data/split_data/images/val/ravioli\".\n",
      "There are 0 directories and 250 images in \"raw_data/split_data/images/val/red_velvet_cake\".\n",
      "There are 0 directories and 250 images in \"raw_data/split_data/images/val/guacamole\".\n",
      "There are 0 directories and 250 images in \"raw_data/split_data/images/val/sashimi\".\n",
      "There are 0 directories and 250 images in \"raw_data/split_data/images/val/hummus\".\n",
      "There are 0 directories and 250 images in \"raw_data/split_data/images/val/lobster_bisque\".\n",
      "There are 0 directories and 250 images in \"raw_data/split_data/images/val/escargots\".\n",
      "There are 0 directories and 250 images in \"raw_data/split_data/images/val/gnocchi\".\n",
      "There are 0 directories and 250 images in \"raw_data/split_data/images/val/lasagna\".\n",
      "There are 0 directories and 250 images in \"raw_data/split_data/images/val/bread_pudding\".\n",
      "There are 0 directories and 250 images in \"raw_data/split_data/images/val/cheese_plate\".\n",
      "There are 0 directories and 250 images in \"raw_data/split_data/images/val/cup_cakes\".\n",
      "There are 0 directories and 250 images in \"raw_data/split_data/images/val/bruschetta\".\n",
      "There are 0 directories and 250 images in \"raw_data/split_data/images/val/filet_mignon\".\n",
      "There are 0 directories and 250 images in \"raw_data/split_data/images/val/chicken_wings\".\n",
      "There are 0 directories and 250 images in \"raw_data/split_data/images/val/sushi\".\n",
      "There are 0 directories and 250 images in \"raw_data/split_data/images/val/baklava\".\n",
      "There are 0 directories and 250 images in \"raw_data/split_data/images/val/beef_carpaccio\".\n",
      "There are 0 directories and 250 images in \"raw_data/split_data/images/val/nachos\".\n",
      "There are 0 directories and 250 images in \"raw_data/split_data/images/val/beef_tartare\".\n",
      "There are 0 directories and 250 images in \"raw_data/split_data/images/val/edamame\".\n",
      "There are 0 directories and 250 images in \"raw_data/split_data/images/val/pho\".\n",
      "There are 0 directories and 250 images in \"raw_data/split_data/images/val/cannoli\".\n",
      "There are 0 directories and 250 images in \"raw_data/split_data/images/val/seaweed_salad\".\n",
      "There are 0 directories and 250 images in \"raw_data/split_data/images/val/frozen_yogurt\".\n",
      "There are 0 directories and 250 images in \"raw_data/split_data/images/val/caesar_salad\".\n",
      "There are 0 directories and 250 images in \"raw_data/split_data/images/val/ramen\".\n",
      "There are 0 directories and 250 images in \"raw_data/split_data/images/val/clam_chowder\".\n",
      "There are 0 directories and 250 images in \"raw_data/split_data/images/val/eggs_benedict\".\n",
      "There are 0 directories and 250 images in \"raw_data/split_data/images/val/donuts\".\n",
      "There are 0 directories and 250 images in \"raw_data/split_data/images/val/tacos\".\n",
      "There are 0 directories and 250 images in \"raw_data/split_data/images/val/hamburger\".\n",
      "There are 0 directories and 250 images in \"raw_data/split_data/images/val/greek_salad\".\n",
      "There are 0 directories and 250 images in \"raw_data/split_data/images/val/paella\".\n",
      "There are 0 directories and 250 images in \"raw_data/split_data/images/val/prime_rib\".\n",
      "There are 0 directories and 250 images in \"raw_data/split_data/images/val/carrot_cake\".\n",
      "There are 0 directories and 250 images in \"raw_data/split_data/images/val/cheesecake\".\n",
      "There are 0 directories and 250 images in \"raw_data/split_data/images/val/pizza\".\n",
      "There are 0 directories and 250 images in \"raw_data/split_data/images/val/waffles\".\n",
      "There are 0 directories and 250 images in \"raw_data/split_data/images/val/garlic_bread\".\n",
      "There are 0 directories and 250 images in \"raw_data/split_data/images/val/macaroni_and_cheese\".\n",
      "There are 0 directories and 250 images in \"raw_data/split_data/images/val/spring_rolls\".\n",
      "There are 0 directories and 250 images in \"raw_data/split_data/images/val/club_sandwich\".\n",
      "There are 0 directories and 250 images in \"raw_data/split_data/images/val/risotto\".\n",
      "There are 0 directories and 250 images in \"raw_data/split_data/images/val/omelette\".\n",
      "There are 0 directories and 250 images in \"raw_data/split_data/images/val/french_toast\".\n",
      "There are 0 directories and 250 images in \"raw_data/split_data/images/val/fried_rice\".\n",
      "There are 0 directories and 250 images in \"raw_data/split_data/images/val/chicken_quesadilla\".\n",
      "There are 0 directories and 250 images in \"raw_data/split_data/images/val/croque_madame\".\n",
      "There are 0 directories and 250 images in \"raw_data/split_data/images/val/ice_cream\".\n",
      "There are 0 directories and 250 images in \"raw_data/split_data/images/val/macarons\".\n",
      "There are 0 directories and 250 images in \"raw_data/split_data/images/val/miso_soup\".\n",
      "There are 0 directories and 250 images in \"raw_data/split_data/images/val/grilled_salmon\".\n",
      "There are 0 directories and 250 images in \"raw_data/split_data/images/val/fried_calamari\".\n",
      "There are 0 directories and 250 images in \"raw_data/split_data/images/val/french_onion_soup\".\n",
      "There are 0 directories and 250 images in \"raw_data/split_data/images/val/chocolate_cake\".\n",
      "There are 0 directories and 250 images in \"raw_data/split_data/images/val/deviled_eggs\".\n",
      "There are 0 directories and 250 images in \"raw_data/split_data/images/val/pancakes\".\n",
      "There are 0 directories and 250 images in \"raw_data/split_data/images/val/lobster_roll_sandwich\".\n",
      "There are 0 directories and 250 images in \"raw_data/split_data/images/val/takoyaki\".\n",
      "There are 0 directories and 250 images in \"raw_data/split_data/images/val/strawberry_shortcake\".\n",
      "There are 0 directories and 250 images in \"raw_data/split_data/images/val/tiramisu\".\n",
      "There are 0 directories and 250 images in \"raw_data/split_data/images/val/mussels\".\n",
      "There are 0 directories and 250 images in \"raw_data/split_data/images/val/breakfast_burrito\".\n",
      "There are 0 directories and 250 images in \"raw_data/split_data/images/val/gyoza\".\n",
      "There are 0 directories and 250 images in \"raw_data/split_data/images/val/fish_and_chips\".\n",
      "There are 0 directories and 250 images in \"raw_data/split_data/images/val/creme_brulee\".\n",
      "There are 0 directories and 250 images in \"raw_data/split_data/images/val/scallops\".\n",
      "There are 0 directories and 250 images in \"raw_data/split_data/images/val/samosa\".\n",
      "There are 0 directories and 250 images in \"raw_data/split_data/images/val/panna_cotta\".\n",
      "There are 0 directories and 250 images in \"raw_data/split_data/images/val/falafel\".\n",
      "There are 0 directories and 250 images in \"raw_data/split_data/images/val/oysters\".\n",
      "There are 0 directories and 250 images in \"raw_data/split_data/images/val/crab_cakes\".\n",
      "There are 0 directories and 250 images in \"raw_data/split_data/images/val/churros\".\n",
      "There are 0 directories and 250 images in \"raw_data/split_data/images/val/french_fries\".\n",
      "There are 0 directories and 250 images in \"raw_data/split_data/images/val/pad_thai\".\n",
      "There are 0 directories and 250 images in \"raw_data/split_data/images/val/pulled_pork_sandwich\".\n",
      "There are 0 directories and 250 images in \"raw_data/split_data/images/val/baby_back_ribs\".\n",
      "There are 0 directories and 250 images in \"raw_data/split_data/images/val/tuna_tartare\".\n",
      "There are 0 directories and 250 images in \"raw_data/split_data/images/val/caprese_salad\".\n",
      "There are 0 directories and 250 images in \"raw_data/split_data/images/val/beet_salad\".\n",
      "There are 0 directories and 250 images in \"raw_data/split_data/images/val/beignets\".\n",
      "There are 0 directories and 250 images in \"raw_data/split_data/images/val/peking_duck\".\n",
      "There are 0 directories and 250 images in \"raw_data/split_data/images/val/hot_dog\".\n",
      "There are 0 directories and 250 images in \"raw_data/split_data/images/val/dumplings\".\n"
     ]
    }
   ],
   "source": [
    "# Walk through the val directory\n",
    "for dirpath, dirnames, filenames in os.walk(val_dir):\n",
    "    print(f'There are {len(dirnames)} directories and {len(filenames)} images in \"{dirpath}\".')"
   ]
  },
  {
   "cell_type": "markdown",
   "id": "3dd790d1-fa5c-4147-a67d-e3974bec6655",
   "metadata": {},
   "source": [
    "## Collecting Data for Annotation"
   ]
  },
  {
   "cell_type": "markdown",
   "id": "3e0b1b88-9412-4f59-9e47-e3adfc6a594d",
   "metadata": {},
   "source": [
    "### 1. 10% Data from 5 Classes"
   ]
  },
  {
   "cell_type": "code",
   "execution_count": 8,
   "id": "c170dc64-9a13-4ca9-b3b8-4859ec5bf35b",
   "metadata": {},
   "outputs": [],
   "source": [
    "# Creating a function that moves files randomely.\n",
    "def move_random_files(src_dir: str, dst_dir: str, class_list: list, files_count: int):\n",
    "    \"\"\"\n",
    "    Moves random files from source to destination for every classes.\n",
    "    Parameters:\n",
    "        src_dir: str, A path of the source directory.\n",
    "        dst_dir: str, A path of the destination directory.\n",
    "        class_list: list, A class list containing the names of the classes to move the files from source.\n",
    "        files_count: int, Total number of files that need to be moved randomely.\n",
    "    \"\"\"\n",
    "    # Checking the dst directory and creating it\n",
    "    if not os.path.exists(dst_dir):\n",
    "        os.makedirs(dst_dir)\n",
    "        print(f'[INFO] \"{dst_dir}\" Directory is been created.')\n",
    "        \n",
    "    # Looping through classes and moving the files\n",
    "    for class_names in tqdm(class_list):\n",
    "        # List of the images paths\n",
    "        image_path_list = [os.path.join(src_dir, class_names, i) for i in os.listdir(os.path.join(src_dir, class_names))]\n",
    "        \n",
    "        # Selecting the random sample\n",
    "        rand_images_list = random.sample(image_path_list, files_count)\n",
    "        \n",
    "        # Class directory in dst dir\n",
    "        dst_class_dir = os.path.join(dst_dir, class_names)\n",
    "        os.makedirs(dst_class_dir)\n",
    "        \n",
    "        # Moving the files using the random samples list\n",
    "        for file in tqdm(rand_images_list):\n",
    "            if os.path.isfile(file):\n",
    "                shutil.move(file, dst_class_dir)\n",
    "    print(f'[INFO] All the {files_count} files for {len(class_list)} classes have been moved from \"{src_dir}\" to \"{dst_dir}\".')"
   ]
  },
  {
   "cell_type": "code",
   "execution_count": 10,
   "id": "87cf11ee-3299-4601-8bfb-d95f9f2d6b33",
   "metadata": {},
   "outputs": [
    {
     "data": {
      "text/plain": [
       "['chicken_curry', 'chocolate_cake', 'hamburger', 'pizza', 'ramen']"
      ]
     },
     "execution_count": 10,
     "metadata": {},
     "output_type": "execute_result"
    }
   ],
   "source": [
    "# Selecting 5 classes\n",
    "classes5_list = ['chicken_curry', 'chocolate_cake', 'hamburger', 'pizza', 'ramen']\n",
    "classes5_list"
   ]
  },
  {
   "cell_type": "code",
   "execution_count": 11,
   "id": "ea9fc687-1ee6-457e-8127-685cb209704f",
   "metadata": {},
   "outputs": [],
   "source": [
    "train_5classes_10percent = 'raw_data/batch_data/5classes_10percent/images/train'\n",
    "val_5classes_10percent = 'raw_data/batch_data/5classes_10percent/images/val'\n",
    "train_image_count = int(750 * 0.1)\n",
    "val_image_count = int(250 * 0.1)"
   ]
  },
  {
   "cell_type": "code",
   "execution_count": 12,
   "id": "55da2420-8b92-4a37-87bb-8bbcea0fe80f",
   "metadata": {},
   "outputs": [
    {
     "name": "stdout",
     "output_type": "stream",
     "text": [
      "[INFO] \"raw_data/batch_data/5classes_10percent/images/train\" Directory is been created.\n"
     ]
    },
    {
     "name": "stderr",
     "output_type": "stream",
     "text": [
      "  0%|          | 0/5 [00:00<?, ?it/s]\n",
      "100%|██████████| 75/75 [00:00<00:00, 966.79it/s]\n",
      "\n",
      "100%|██████████| 75/75 [00:00<00:00, 2239.62it/s]\n",
      " 40%|████      | 2/5 [00:00<00:00, 14.55it/s]\n",
      "100%|██████████| 75/75 [00:00<00:00, 1728.69it/s]\n",
      "\n",
      "100%|██████████| 75/75 [00:00<00:00, 1868.42it/s]\n",
      " 80%|████████  | 4/5 [00:00<00:00, 17.12it/s]\n",
      "100%|██████████| 75/75 [00:00<00:00, 2214.66it/s]\n",
      "100%|██████████| 5/5 [00:00<00:00, 17.62it/s]"
     ]
    },
    {
     "name": "stdout",
     "output_type": "stream",
     "text": [
      "[INFO] All the 75 files for 5 classes have been moved from \"raw_data/split_data/images/train\" to \"raw_data/batch_data/5classes_10percent/images/train\".\n"
     ]
    },
    {
     "name": "stderr",
     "output_type": "stream",
     "text": [
      "\n"
     ]
    }
   ],
   "source": [
    "# Collecting 10% data from train split using the function\n",
    "move_random_files(src_dir=train_dir,\n",
    "                  dst_dir=train_5classes_10percent,\n",
    "                  class_list=classes5_list,\n",
    "                  files_count=train_image_count)"
   ]
  },
  {
   "cell_type": "code",
   "execution_count": 13,
   "id": "e0fdf164-06cb-4221-a1a8-0ed0d117904d",
   "metadata": {},
   "outputs": [
    {
     "name": "stdout",
     "output_type": "stream",
     "text": [
      "[INFO] \"raw_data/batch_data/5classes_10percent/images/val\" Directory is been created.\n"
     ]
    },
    {
     "name": "stderr",
     "output_type": "stream",
     "text": [
      "  0%|          | 0/5 [00:00<?, ?it/s]\n",
      "100%|██████████| 25/25 [00:00<00:00, 1686.25it/s]\n",
      "\n",
      "100%|██████████| 25/25 [00:00<00:00, 2044.84it/s]\n",
      "\n",
      "100%|██████████| 25/25 [00:00<00:00, 2128.35it/s]\n",
      "\n",
      "100%|██████████| 25/25 [00:00<00:00, 2160.01it/s]\n",
      "\n",
      "100%|██████████| 25/25 [00:00<00:00, 2238.97it/s]\n",
      "100%|██████████| 5/5 [00:00<00:00, 57.62it/s]"
     ]
    },
    {
     "name": "stdout",
     "output_type": "stream",
     "text": [
      "[INFO] All the 25 files for 5 classes have been moved from \"raw_data/split_data/images/val\" to \"raw_data/batch_data/5classes_10percent/images/val\".\n"
     ]
    },
    {
     "name": "stderr",
     "output_type": "stream",
     "text": [
      "\n"
     ]
    }
   ],
   "source": [
    "# Collecting 10% data from val split using the function\n",
    "move_random_files(src_dir=val_dir,\n",
    "                  dst_dir=val_5classes_10percent,\n",
    "                  class_list=classes5_list,\n",
    "                  files_count=val_image_count)"
   ]
  },
  {
   "cell_type": "code",
   "execution_count": 14,
   "id": "95f927ff-44f4-4ff0-8989-f32d4834aae7",
   "metadata": {},
   "outputs": [
    {
     "name": "stdout",
     "output_type": "stream",
     "text": [
      "There are 2 directories and 0 images in \"raw_data/batch_data/5classes_10percent/images\".\n",
      "There are 5 directories and 0 images in \"raw_data/batch_data/5classes_10percent/images/train\".\n",
      "There are 0 directories and 75 images in \"raw_data/batch_data/5classes_10percent/images/train/chicken_curry\".\n",
      "There are 0 directories and 75 images in \"raw_data/batch_data/5classes_10percent/images/train/ramen\".\n",
      "There are 0 directories and 75 images in \"raw_data/batch_data/5classes_10percent/images/train/hamburger\".\n",
      "There are 0 directories and 75 images in \"raw_data/batch_data/5classes_10percent/images/train/pizza\".\n",
      "There are 0 directories and 75 images in \"raw_data/batch_data/5classes_10percent/images/train/chocolate_cake\".\n",
      "There are 5 directories and 0 images in \"raw_data/batch_data/5classes_10percent/images/val\".\n",
      "There are 0 directories and 25 images in \"raw_data/batch_data/5classes_10percent/images/val/chicken_curry\".\n",
      "There are 0 directories and 25 images in \"raw_data/batch_data/5classes_10percent/images/val/ramen\".\n",
      "There are 0 directories and 25 images in \"raw_data/batch_data/5classes_10percent/images/val/hamburger\".\n",
      "There are 0 directories and 25 images in \"raw_data/batch_data/5classes_10percent/images/val/pizza\".\n",
      "There are 0 directories and 25 images in \"raw_data/batch_data/5classes_10percent/images/val/chocolate_cake\".\n"
     ]
    }
   ],
   "source": [
    "# Walk through the 10% data directory\n",
    "for dirpath, dirnames, filenames in os.walk('raw_data/batch_data/5classes_10percent/images'):\n",
    "    print(f'There are {len(dirnames)} directories and {len(filenames)} images in \"{dirpath}\".')"
   ]
  },
  {
   "cell_type": "code",
   "execution_count": 16,
   "id": "66cd47f5-d381-4747-9111-1cfad45e7280",
   "metadata": {},
   "outputs": [
    {
     "data": {
      "text/plain": [
       "'/notebooks/5classes_10percent.zip'"
      ]
     },
     "execution_count": 16,
     "metadata": {},
     "output_type": "execute_result"
    }
   ],
   "source": [
    "# Archiving the batch data of 10% data.\n",
    "shutil.make_archive(base_name='5classes_10percent', \n",
    "                    format='zip', \n",
    "                    root_dir='raw_data/batch_data/5classes_10percent/images', \n",
    "                    verbose=1)"
   ]
  },
  {
   "cell_type": "code",
   "execution_count": null,
   "id": "abfdf32a-9aa2-48c1-aa4d-5f31562ffe42",
   "metadata": {},
   "outputs": [],
   "source": []
  }
 ],
 "metadata": {
  "kernelspec": {
   "display_name": "Python 3 (ipykernel)",
   "language": "python",
   "name": "python3"
  },
  "language_info": {
   "codemirror_mode": {
    "name": "ipython",
    "version": 3
   },
   "file_extension": ".py",
   "mimetype": "text/x-python",
   "name": "python",
   "nbconvert_exporter": "python",
   "pygments_lexer": "ipython3",
   "version": "3.9.16"
  }
 },
 "nbformat": 4,
 "nbformat_minor": 5
}
